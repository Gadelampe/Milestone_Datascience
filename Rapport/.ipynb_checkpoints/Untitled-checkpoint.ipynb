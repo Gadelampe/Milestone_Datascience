{
 "cells": [
  {
   "cell_type": "code",
   "execution_count": null,
   "metadata": {},
   "outputs": [],
   "source": []
  },
  {
   "cell_type": "code",
   "execution_count": null,
   "metadata": {},
   "outputs": [],
   "source": []
  },
  {
   "cell_type": "code",
   "execution_count": null,
   "metadata": {},
   "outputs": [],
   "source": [
    "# Opgave 3"
   ]
  },
  {
   "cell_type": "code",
   "execution_count": null,
   "metadata": {},
   "outputs": [],
   "source": [
    "## Opgave 3.1"
   ]
  },
  {
   "cell_type": "code",
   "execution_count": null,
   "metadata": {},
   "outputs": [],
   "source": [
    "For at løse opgave 3.1 har vi lavet to queries, en med og uden INNER JOIN. Vi gemmer vores sraped_at dato´er som Dates så vi kan bruge >= oprationen til at finde de artikler som er\n",
    "blevet scrapet efter 15. Jan 2018. Derefter finder vi kun de artikler som har type_id = 4, dette er for kun finde artikler som er 'reliable'."
   ]
  },
  {
   "cell_type": "code",
   "execution_count": null,
   "metadata": {},
   "outputs": [],
   "source": [
    "SELECT domain_name.domain_name FROM domain_name\n",
    "WHERE domain_id in (SELECT article.domain_id FROM article\n",
    "WHERE article.type_id = '4' and scraped_at >= '2018-01-15')"
   ]
  },
  {
   "cell_type": "code",
   "execution_count": null,
   "metadata": {},
   "outputs": [],
   "source": [
    "Eller"
   ]
  },
  {
   "cell_type": "code",
   "execution_count": null,
   "metadata": {},
   "outputs": [],
   "source": [
    "SELECT DISTINCT domain_name.domain_name FROM domain_name\n",
    "INNER JOIN article\n",
    "ON article.domain_id = domain_name.domain_id\n",
    "WHERE article.type_id = '4' and scraped_at >= '2018-01-15'"
   ]
  },
  {
   "cell_type": "code",
   "execution_count": null,
   "metadata": {},
   "outputs": [],
   "source": [
    "## Opgave 3.2"
   ]
  },
  {
   "cell_type": "code",
   "execution_count": null,
   "metadata": {},
   "outputs": [],
   "source": [
    "Med denne query finder vi den author med flest fake new artikler. Dette gør vi ved at sortere fra størst til mindst og derefter sætter en limit på en hvilket kun giver det største\n",
    "element. Hvis der er 2 authros som har skrevet lige mange fake news artikler vil den stadig kun give en author."
   ]
  },
  {
   "cell_type": "code",
   "execution_count": null,
   "metadata": {},
   "outputs": [],
   "source": [
    "SELECT COUNT(author_in.authorid), author.authorname\n",
    "FROM author_in\n",
    "INNER JOIN author\n",
    "ON author.authorid = author_in.authorid\n",
    "WHERE author_in.id in (SELECT article.id FROM article WHERE article.type_id = 1)\n",
    "GROUP BY author_in.authorid, author.authorname\n",
    "ORDER BY COUNT(author_in.authorid) DESC\n",
    "LIMIT 1"
   ]
  },
  {
   "cell_type": "code",
   "execution_count": null,
   "metadata": {},
   "outputs": [],
   "source": [
    "## Opgave 3.3"
   ]
  },
  {
   "cell_type": "code",
   "execution_count": null,
   "metadata": {},
   "outputs": [],
   "source": [
    "Måden vi har talt par på er ved at sige hvis 3 artikler (a, b, c) har de samme meta_tags så laver det parene (a, b) og (a, c) og vi tæller ikke (b, c) med \n",
    "fordi det kan man antage med de andre par. Så antallet af par er Count(*) - 1 som kan ses på linje 2\n",
    "Måden den virker på er ved at den kollapser alle metatags med artiklerne så meta_tagsene bliver gemt som en liste istedet for flere forskellige rows. Dette gør vi med aggrations\n",
    "funktionen 'array_agg'. Derefter kollapser vi alle artikel id´erne som har den samme liste af meta_tags, med samme 'array_agg' og hvis længden af listen er mere end 1\n",
    "er der 1 eller flere par. Tilsidst tager vi summen af alle parene hvilket giver det totale antal par artikler som har de samme meta_tags."
   ]
  },
  {
   "cell_type": "code",
   "execution_count": null,
   "metadata": {},
   "outputs": [],
   "source": [
    "SELECT sum(pairAmount)\n",
    "FROM (SELECT count(*) - 1 as pairAmount\n",
    "\tFROM (SELECT id, array_agg(meta_keywords.meta_keyword) AS Meta_Keyword_ids\n",
    "\t\t\tFROM meta_keywords_in\n",
    "\t\t\tINNER JOIN meta_keywords\n",
    "\t\t\tON meta_keywords.meta_keyword_id = meta_keywords_in.meta_keyword_id\n",
    "\t\t\tWHERE meta_keywords.meta_keyword_id != '137'\n",
    "\t\t\tGROUP BY meta_keywords_in.id\n",
    "\t\t ) meta_keywords_in\n",
    "\tGROUP BY Meta_Keyword_ids\n",
    "\tHAVING count(*) > 1) AS counter"
   ]
  }
 ],
 "metadata": {
  "kernelspec": {
   "display_name": "Python 3",
   "language": "python",
   "name": "python3"
  },
  "language_info": {
   "codemirror_mode": {
    "name": "ipython",
    "version": 3
   },
   "file_extension": ".py",
   "mimetype": "text/x-python",
   "name": "python",
   "nbconvert_exporter": "python",
   "pygments_lexer": "ipython3",
   "version": "3.7.4"
  }
 },
 "nbformat": 4,
 "nbformat_minor": 4
}
